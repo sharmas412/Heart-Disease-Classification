{
 "cells": [
  {
   "cell_type": "markdown",
   "metadata": {},
   "source": [
    "# Heart Disease Classification - Part 2"
   ]
  },
  {
   "cell_type": "code",
   "execution_count": 1,
   "metadata": {},
   "outputs": [],
   "source": [
    "import numpy as np\n",
    "import pandas as pd\n",
    "\n",
    "import matplotlib.pyplot as plt\n",
    "import seaborn as sns\n",
    "\n",
    "import warnings\n",
    "from sklearn.exceptions import UndefinedMetricWarning\n",
    "warnings.filterwarnings(\"ignore\", category=UndefinedMetricWarning)"
   ]
  },
  {
   "cell_type": "markdown",
   "metadata": {},
   "source": [
    "## Load and preprocess the dataset"
   ]
  },
  {
   "cell_type": "code",
   "execution_count": 2,
   "metadata": {},
   "outputs": [],
   "source": [
    "heart_data = pd.read_csv('http://archive.ics.uci.edu/ml/machine-learning-databases/heart-disease/processed.cleveland.data', header=None)\n",
    "heart_data.columns = ['Age', 'Sex', 'ChestPain', 'trestBPS', 'chol', 'fbs', 'restecg', 'thalach',\n",
    "                     'exang', 'oldpeak', 'slope', 'ca', 'thal', 'target']\n",
    "\n",
    "def impute_missing(df):\n",
    "    heart_data.replace('?', np.NaN, inplace=True)\n",
    "    for col in df:\n",
    "        df[col].fillna(df[col].mode()[0], inplace=True)\n",
    "\n",
    "impute_missing(heart_data)\n",
    "\n",
    "\n",
    "def change_data(df):\n",
    "    for col in df:\n",
    "        if col in ['Sex', 'ChestPain', 'fbs', 'restecg', 'exang', 'slope', 'ca', 'thal', 'target']:\n",
    "            df[col] = df[col].astype('category')\n",
    "            \n",
    "change_data(heart_data)\n",
    "\n",
    "heart_data['target'] = heart_data['target'].replace([2,3,4], 1)\n",
    "heart_data['target'].cat.remove_categories([2,3,4], inplace=True)"
   ]
  },
  {
   "cell_type": "markdown",
   "metadata": {},
   "source": [
    "# Model"
   ]
  },
  {
   "cell_type": "code",
   "execution_count": 3,
   "metadata": {},
   "outputs": [],
   "source": [
    "X = heart_data.iloc[:, :-1]\n",
    "y = heart_data['target']"
   ]
  },
  {
   "cell_type": "code",
   "execution_count": 4,
   "metadata": {},
   "outputs": [],
   "source": [
    "from sklearn.model_selection import train_test_split\n",
    "\n",
    "X_train, X_test, y_train, y_test = train_test_split(X,y,test_size=0.3)\n",
    "\n",
    "scoring = ['accuracy', 'precision', 'recall', 'f1', 'roc_auc']"
   ]
  },
  {
   "cell_type": "markdown",
   "metadata": {},
   "source": [
    "__The model will be evaluated based on multiple scoring methodology, but focus would be given to recall since we're trying to classify heart disease and want to minimize false negatives__"
   ]
  },
  {
   "cell_type": "markdown",
   "metadata": {},
   "source": [
    "### Dummy Classifier, Forest, Gradient Boosting"
   ]
  },
  {
   "cell_type": "code",
   "execution_count": 5,
   "metadata": {},
   "outputs": [
    {
     "name": "stderr",
     "output_type": "stream",
     "text": [
      "C:\\ProgramData\\Anaconda3\\lib\\site-packages\\sklearn\\ensemble\\weight_boosting.py:29: DeprecationWarning: numpy.core.umath_tests is an internal NumPy module and should not be imported. It will be removed in a future NumPy release.\n",
      "  from numpy.core.umath_tests import inner1d\n"
     ]
    }
   ],
   "source": [
    "from sklearn.ensemble import RandomForestClassifier\n",
    "from sklearn.ensemble import GradientBoostingClassifier\n",
    "from sklearn.dummy import DummyClassifier"
   ]
  },
  {
   "cell_type": "code",
   "execution_count": 6,
   "metadata": {},
   "outputs": [],
   "source": [
    "dummy = DummyClassifier(strategy='most_frequent')\n",
    "rf = RandomForestClassifier()\n",
    "gb = GradientBoostingClassifier(n_estimators=100)"
   ]
  },
  {
   "cell_type": "code",
   "execution_count": 7,
   "metadata": {},
   "outputs": [
    {
     "data": {
      "text/html": [
       "<div>\n",
       "<style scoped>\n",
       "    .dataframe tbody tr th:only-of-type {\n",
       "        vertical-align: middle;\n",
       "    }\n",
       "\n",
       "    .dataframe tbody tr th {\n",
       "        vertical-align: top;\n",
       "    }\n",
       "\n",
       "    .dataframe thead th {\n",
       "        text-align: right;\n",
       "    }\n",
       "</style>\n",
       "<table border=\"1\" class=\"dataframe\">\n",
       "  <thead>\n",
       "    <tr style=\"text-align: right;\">\n",
       "      <th></th>\n",
       "      <th>Model</th>\n",
       "      <th>Accuracy</th>\n",
       "      <th>Precision</th>\n",
       "      <th>Recall</th>\n",
       "      <th>f1</th>\n",
       "      <th>roc_auc</th>\n",
       "    </tr>\n",
       "  </thead>\n",
       "  <tbody>\n",
       "    <tr>\n",
       "      <th>0</th>\n",
       "      <td>Initial DummyClassifier</td>\n",
       "      <td>0.556603</td>\n",
       "      <td>0.000000</td>\n",
       "      <td>0.000000</td>\n",
       "      <td>0.000000</td>\n",
       "      <td>0.500000</td>\n",
       "    </tr>\n",
       "    <tr>\n",
       "      <th>1</th>\n",
       "      <td>Initial RandomForestClassifier</td>\n",
       "      <td>0.797758</td>\n",
       "      <td>0.837923</td>\n",
       "      <td>0.683626</td>\n",
       "      <td>0.743803</td>\n",
       "      <td>0.879863</td>\n",
       "    </tr>\n",
       "    <tr>\n",
       "      <th>2</th>\n",
       "      <td>Initial GradientBoostingClassifier</td>\n",
       "      <td>0.787886</td>\n",
       "      <td>0.801410</td>\n",
       "      <td>0.715205</td>\n",
       "      <td>0.742957</td>\n",
       "      <td>0.878439</td>\n",
       "    </tr>\n",
       "  </tbody>\n",
       "</table>\n",
       "</div>"
      ],
      "text/plain": [
       "                                Model  Accuracy  Precision    Recall  \\\n",
       "0             Initial DummyClassifier  0.556603   0.000000  0.000000   \n",
       "1      Initial RandomForestClassifier  0.797758   0.837923  0.683626   \n",
       "2  Initial GradientBoostingClassifier  0.787886   0.801410  0.715205   \n",
       "\n",
       "         f1   roc_auc  \n",
       "0  0.000000  0.500000  \n",
       "1  0.743803  0.879863  \n",
       "2  0.742957  0.878439  "
      ]
     },
     "execution_count": 7,
     "metadata": {},
     "output_type": "execute_result"
    }
   ],
   "source": [
    "from sklearn.model_selection import cross_validate\n",
    "\n",
    "def model_evaluate(models, style):\n",
    "    '''\n",
    "    For a given model, run cross_validate to get multiple evaluation metrics and return a dataframe with the models and metrics\n",
    "    '''\n",
    "    \n",
    "    scores ={'Model':[], 'Accuracy':[], 'Precision':[], 'Recall':[], 'f1':[], 'roc_auc':[]}\n",
    "\n",
    "    for model in models:\n",
    "        sco = cross_validate(model, X_train,y_train, cv=5, scoring = ('accuracy', 'precision', 'recall', 'f1', 'roc_auc'), return_train_score = True)\n",
    "        scores['Model'].append(style + ' ' +type(model).__name__)\n",
    "        scores['Accuracy'].append(sco['test_accuracy'].mean())\n",
    "        scores['Precision'].append(sco['test_precision'].mean())\n",
    "        scores['Recall'].append(sco['test_recall'].mean())\n",
    "        scores['f1'].append(sco['test_f1'].mean())\n",
    "        scores['roc_auc'].append(sco['test_roc_auc'].mean())\n",
    "        model_eval = pd.DataFrame(scores)\n",
    "    return model_eval\n",
    "\n",
    "models=[dummy,rf,gb]\n",
    "initial = model_evaluate(models, 'Initial')\n",
    "initial"
   ]
  },
  {
   "cell_type": "markdown",
   "metadata": {},
   "source": [
    "## Hyperparameter tuning"
   ]
  },
  {
   "cell_type": "code",
   "execution_count": 8,
   "metadata": {},
   "outputs": [],
   "source": [
    "from sklearn.model_selection import RandomizedSearchCV\n",
    "from sklearn.model_selection import GridSearchCV\n",
    "\n",
    "def search_model_evaluate(model, style):\n",
    "    '''\n",
    "    Given RandomSearchCV and GridSearchCV, find multiple scores and return a dataframe with those scores\n",
    "    '''\n",
    "    \n",
    "    scores ={'Model':[], 'Accuracy':[], 'Precision':[], 'Recall':[], 'f1':[], 'roc_auc':[]}\n",
    "\n",
    "    model.fit(X_train, y_train)\n",
    "    sco = model.cv_results_\n",
    "    scores['Model'].append(style + ' ' +type(model).__name__)\n",
    "    scores['Accuracy'].append(sco['mean_test_accuracy'].mean())\n",
    "    scores['Precision'].append(sco['mean_test_precision'].mean())\n",
    "    scores['Recall'].append(sco['mean_test_recall'].mean())\n",
    "    scores['f1'].append(sco['mean_test_f1'].mean())\n",
    "    scores['roc_auc'].append(sco['mean_test_roc_auc'].mean())\n",
    "    search_model_eval = pd.DataFrame(scores)\n",
    "    return search_model_eval"
   ]
  },
  {
   "cell_type": "markdown",
   "metadata": {},
   "source": [
    "### Randomized Search for GradientBoosting"
   ]
  },
  {
   "cell_type": "code",
   "execution_count": 9,
   "metadata": {},
   "outputs": [],
   "source": [
    "from scipy.stats import uniform\n",
    "\n",
    "learning_rate = uniform(0.01,0.2)\n",
    "n_estimators = [int(x) for x in np.linspace(start = 100, stop = 500, num = 5)]\n",
    "max_features = ['auto', 'sqrt']\n",
    "max_depth = [3,5,10]#None]\n",
    "min_samples_leaf = [1, 2, 4]\n",
    "\n",
    "random_grid = {'learning_rate': learning_rate,\n",
    "               'n_estimators': n_estimators,\n",
    "               'max_features': max_features,\n",
    "               'max_depth': max_depth,\n",
    "               'min_samples_leaf': min_samples_leaf}"
   ]
  },
  {
   "cell_type": "code",
   "execution_count": 10,
   "metadata": {},
   "outputs": [],
   "source": [
    "gb = GradientBoostingClassifier()\n",
    "gb_random = RandomizedSearchCV(gb, param_distributions = random_grid, n_iter=100, cv=5, scoring = scoring, refit='recall', return_train_score = True)\n",
    "\n",
    "randomized_gb = search_model_evaluate(gb_random, 'GB')\n"
   ]
  },
  {
   "cell_type": "markdown",
   "metadata": {},
   "source": [
    "### GridSearch for GradientBoosting"
   ]
  },
  {
   "cell_type": "code",
   "execution_count": 11,
   "metadata": {},
   "outputs": [],
   "source": [
    "def get_parameters_GB(model):\n",
    "    randomsearch_params = model.get_params()\n",
    "    grid_learning = randomsearch_params['learning_rate']\n",
    "    grid_depth = randomsearch_params['max_depth']\n",
    "    grid_estimators = randomsearch_params['n_estimators']\n",
    "    grid_max_features = randomsearch_params['max_features']\n",
    "    \n",
    "    gridsearch_learning = [grid_learning, grid_learning+0.02, grid_learning+0.06]\n",
    "    gridsearch_estimators = [grid_estimators-50, grid_estimators, grid_estimators+100]\n",
    "    gridsearch_depth = [grid_depth -2, grid_depth, grid_depth+2]\n",
    "    \n",
    "    gridsearch_params={'learning_rate': gridsearch_learning,\n",
    "                       'n_estimators': gridsearch_estimators,\n",
    "                       'max_features': [grid_max_features],\n",
    "                       'max_depth': gridsearch_depth}\n",
    "    return gridsearch_params\n",
    "\n",
    "gb_ran = GradientBoostingClassifier(**gb_random.best_params_) # gb_random is the model for randomsearchCV\n",
    "gridsearch_params = get_parameters_GB(gb_ran)"
   ]
  },
  {
   "cell_type": "code",
   "execution_count": 12,
   "metadata": {},
   "outputs": [],
   "source": [
    "#scoring = ['accuracy', 'precision', 'recall', 'f1', 'roc_auc']\n",
    "gbclf = GradientBoostingClassifier()\n",
    "gbclf_gridsearch = GridSearchCV(gbclf, gridsearch_params, cv=5, scoring=scoring, refit='recall', return_train_score = True)\n",
    "gridsearch_gb = search_model_evaluate(gbclf_gridsearch,'GB')"
   ]
  },
  {
   "cell_type": "code",
   "execution_count": 13,
   "metadata": {},
   "outputs": [
    {
     "data": {
      "text/html": [
       "<div>\n",
       "<style scoped>\n",
       "    .dataframe tbody tr th:only-of-type {\n",
       "        vertical-align: middle;\n",
       "    }\n",
       "\n",
       "    .dataframe tbody tr th {\n",
       "        vertical-align: top;\n",
       "    }\n",
       "\n",
       "    .dataframe thead th {\n",
       "        text-align: right;\n",
       "    }\n",
       "</style>\n",
       "<table border=\"1\" class=\"dataframe\">\n",
       "  <thead>\n",
       "    <tr style=\"text-align: right;\">\n",
       "      <th></th>\n",
       "      <th>Model</th>\n",
       "      <th>Accuracy</th>\n",
       "      <th>Precision</th>\n",
       "      <th>Recall</th>\n",
       "      <th>f1</th>\n",
       "      <th>roc_auc</th>\n",
       "    </tr>\n",
       "  </thead>\n",
       "  <tbody>\n",
       "    <tr>\n",
       "      <th>0</th>\n",
       "      <td>Initial DummyClassifier</td>\n",
       "      <td>0.556603</td>\n",
       "      <td>0.000000</td>\n",
       "      <td>0.000000</td>\n",
       "      <td>0.000000</td>\n",
       "      <td>0.500000</td>\n",
       "    </tr>\n",
       "    <tr>\n",
       "      <th>1</th>\n",
       "      <td>Initial RandomForestClassifier</td>\n",
       "      <td>0.797758</td>\n",
       "      <td>0.837923</td>\n",
       "      <td>0.683626</td>\n",
       "      <td>0.743803</td>\n",
       "      <td>0.879863</td>\n",
       "    </tr>\n",
       "    <tr>\n",
       "      <th>2</th>\n",
       "      <td>Initial GradientBoostingClassifier</td>\n",
       "      <td>0.787886</td>\n",
       "      <td>0.801410</td>\n",
       "      <td>0.715205</td>\n",
       "      <td>0.742957</td>\n",
       "      <td>0.878439</td>\n",
       "    </tr>\n",
       "    <tr>\n",
       "      <th>0</th>\n",
       "      <td>GB RandomizedSearchCV</td>\n",
       "      <td>0.780236</td>\n",
       "      <td>0.791311</td>\n",
       "      <td>0.714080</td>\n",
       "      <td>0.738037</td>\n",
       "      <td>0.882276</td>\n",
       "    </tr>\n",
       "    <tr>\n",
       "      <th>0</th>\n",
       "      <td>GB GridSearchCV</td>\n",
       "      <td>0.787736</td>\n",
       "      <td>0.802592</td>\n",
       "      <td>0.720929</td>\n",
       "      <td>0.746100</td>\n",
       "      <td>0.901639</td>\n",
       "    </tr>\n",
       "  </tbody>\n",
       "</table>\n",
       "</div>"
      ],
      "text/plain": [
       "                                Model  Accuracy  Precision    Recall  \\\n",
       "0             Initial DummyClassifier  0.556603   0.000000  0.000000   \n",
       "1      Initial RandomForestClassifier  0.797758   0.837923  0.683626   \n",
       "2  Initial GradientBoostingClassifier  0.787886   0.801410  0.715205   \n",
       "0               GB RandomizedSearchCV  0.780236   0.791311  0.714080   \n",
       "0                     GB GridSearchCV  0.787736   0.802592  0.720929   \n",
       "\n",
       "         f1   roc_auc  \n",
       "0  0.000000  0.500000  \n",
       "1  0.743803  0.879863  \n",
       "2  0.742957  0.878439  \n",
       "0  0.738037  0.882276  \n",
       "0  0.746100  0.901639  "
      ]
     },
     "execution_count": 13,
     "metadata": {},
     "output_type": "execute_result"
    }
   ],
   "source": [
    "pd.concat([initial, randomized_gb, gridsearch_gb])"
   ]
  },
  {
   "cell_type": "markdown",
   "metadata": {},
   "source": [
    "### Randomized Search for Random Forest"
   ]
  },
  {
   "cell_type": "code",
   "execution_count": 14,
   "metadata": {},
   "outputs": [],
   "source": [
    "# Number of trees in random forest\n",
    "n_estimators = [int(x) for x in np.linspace(start = 100, stop = 500, num = 5)]\n",
    "# Number of features to consider at every split\n",
    "max_features = ['auto', 'sqrt']\n",
    "# Maximum number of levels in tree\n",
    "max_depth = [3,5,10]\n",
    "#max_depth.append(None)\n",
    "# Minimum number of samples required at each leaf node\n",
    "min_samples_leaf = [1, 2, 4]\n",
    "# Method of selecting samples for training each tree\n",
    "bootstrap = [True, False]\n",
    "# Create the random grid\n",
    "rf_random_grid = {'n_estimators': n_estimators,\n",
    "               'max_features': max_features,\n",
    "               'max_depth': max_depth,\n",
    "               'min_samples_leaf': min_samples_leaf,\n",
    "               'bootstrap': bootstrap}"
   ]
  },
  {
   "cell_type": "code",
   "execution_count": 15,
   "metadata": {},
   "outputs": [],
   "source": [
    "rf = RandomForestClassifier()\n",
    "rf_random = RandomizedSearchCV(rf, param_distributions = rf_random_grid, n_iter=100, cv=5, scoring = scoring, refit='recall', return_train_score = True)\n",
    "# Run the randomized search random forest model\n",
    "randomized_rf = search_model_evaluate(rf_random, 'RF')\n",
    "# Get the best parameters from the randomized model and create a random forest classifier\n",
    "rf_ran = RandomForestClassifier(**rf_random.best_params_)\n"
   ]
  },
  {
   "cell_type": "markdown",
   "metadata": {},
   "source": [
    "### GridSearchCV for Random Forest"
   ]
  },
  {
   "cell_type": "code",
   "execution_count": 16,
   "metadata": {},
   "outputs": [],
   "source": [
    "def get_parameters_RF(model):\n",
    "    randomsearch_params = model.get_params()\n",
    "    grid_depth = randomsearch_params['max_depth']\n",
    "    grid_estimators = randomsearch_params['n_estimators']\n",
    "    grid_max_features = randomsearch_params['max_features']\n",
    "    grid_min_samples_leaf = randomsearch_params['min_samples_leaf']\n",
    "    grid_bootstrap = randomsearch_params['bootstrap']\n",
    "    \n",
    "\n",
    "    gridsearch_estimators = [grid_estimators-50, grid_estimators, grid_estimators+100]\n",
    "    gridsearch_depth = [grid_depth -2, grid_depth, grid_depth+2]\n",
    "    grid_min_samples_leaf = [grid_min_samples_leaf, grid_min_samples_leaf+2]\n",
    "    \n",
    "    \n",
    "    gridsearch_params={'n_estimators': gridsearch_estimators,\n",
    "                       'max_features': [grid_max_features],\n",
    "                       'max_depth': gridsearch_depth,\n",
    "                       'min_samples_leaf': grid_min_samples_leaf,\n",
    "                       'bootstrap': [grid_bootstrap]}\n",
    "    return gridsearch_params\n",
    "\n",
    "# Get the best parameters from the randomized model and create a random forest classifier for GridSearch\n",
    "rf_ran = RandomForestClassifier(**rf_random.best_params_)\n",
    "rf_gridsearch_params = get_parameters_RF(rf_ran)"
   ]
  },
  {
   "cell_type": "code",
   "execution_count": 17,
   "metadata": {},
   "outputs": [],
   "source": [
    "rfclf = RandomForestClassifier()\n",
    "rfclf_gridsearch = GridSearchCV(rfclf, rf_gridsearch_params, cv=5, scoring=scoring, refit='recall', return_train_score = True)\n",
    "gridsearch_rf = search_model_evaluate(rfclf_gridsearch,'RF')"
   ]
  },
  {
   "cell_type": "code",
   "execution_count": 18,
   "metadata": {},
   "outputs": [
    {
     "data": {
      "text/html": [
       "<div>\n",
       "<style scoped>\n",
       "    .dataframe tbody tr th:only-of-type {\n",
       "        vertical-align: middle;\n",
       "    }\n",
       "\n",
       "    .dataframe tbody tr th {\n",
       "        vertical-align: top;\n",
       "    }\n",
       "\n",
       "    .dataframe thead th {\n",
       "        text-align: right;\n",
       "    }\n",
       "</style>\n",
       "<table border=\"1\" class=\"dataframe\">\n",
       "  <thead>\n",
       "    <tr style=\"text-align: right;\">\n",
       "      <th></th>\n",
       "      <th>Model</th>\n",
       "      <th>Accuracy</th>\n",
       "      <th>Precision</th>\n",
       "      <th>Recall</th>\n",
       "      <th>f1</th>\n",
       "      <th>roc_auc</th>\n",
       "    </tr>\n",
       "  </thead>\n",
       "  <tbody>\n",
       "    <tr>\n",
       "      <th>0</th>\n",
       "      <td>Initial DummyClassifier</td>\n",
       "      <td>0.556603</td>\n",
       "      <td>0.000000</td>\n",
       "      <td>0.000000</td>\n",
       "      <td>0.000000</td>\n",
       "      <td>0.500000</td>\n",
       "    </tr>\n",
       "    <tr>\n",
       "      <th>1</th>\n",
       "      <td>Initial RandomForestClassifier</td>\n",
       "      <td>0.797758</td>\n",
       "      <td>0.837923</td>\n",
       "      <td>0.683626</td>\n",
       "      <td>0.743803</td>\n",
       "      <td>0.879863</td>\n",
       "    </tr>\n",
       "    <tr>\n",
       "      <th>2</th>\n",
       "      <td>Initial GradientBoostingClassifier</td>\n",
       "      <td>0.787886</td>\n",
       "      <td>0.801410</td>\n",
       "      <td>0.715205</td>\n",
       "      <td>0.742957</td>\n",
       "      <td>0.878439</td>\n",
       "    </tr>\n",
       "    <tr>\n",
       "      <th>0</th>\n",
       "      <td>GB RandomizedSearchCV</td>\n",
       "      <td>0.780236</td>\n",
       "      <td>0.791311</td>\n",
       "      <td>0.714080</td>\n",
       "      <td>0.738037</td>\n",
       "      <td>0.882276</td>\n",
       "    </tr>\n",
       "    <tr>\n",
       "      <th>0</th>\n",
       "      <td>GB GridSearchCV</td>\n",
       "      <td>0.787736</td>\n",
       "      <td>0.802592</td>\n",
       "      <td>0.720929</td>\n",
       "      <td>0.746100</td>\n",
       "      <td>0.901639</td>\n",
       "    </tr>\n",
       "    <tr>\n",
       "      <th>0</th>\n",
       "      <td>RF RandomizedSearchCV</td>\n",
       "      <td>0.802170</td>\n",
       "      <td>0.815701</td>\n",
       "      <td>0.736657</td>\n",
       "      <td>0.765124</td>\n",
       "      <td>0.913083</td>\n",
       "    </tr>\n",
       "    <tr>\n",
       "      <th>0</th>\n",
       "      <td>RF GridSearchCV</td>\n",
       "      <td>0.809224</td>\n",
       "      <td>0.824731</td>\n",
       "      <td>0.744631</td>\n",
       "      <td>0.774167</td>\n",
       "      <td>0.915441</td>\n",
       "    </tr>\n",
       "  </tbody>\n",
       "</table>\n",
       "</div>"
      ],
      "text/plain": [
       "                                Model  Accuracy  Precision    Recall  \\\n",
       "0             Initial DummyClassifier  0.556603   0.000000  0.000000   \n",
       "1      Initial RandomForestClassifier  0.797758   0.837923  0.683626   \n",
       "2  Initial GradientBoostingClassifier  0.787886   0.801410  0.715205   \n",
       "0               GB RandomizedSearchCV  0.780236   0.791311  0.714080   \n",
       "0                     GB GridSearchCV  0.787736   0.802592  0.720929   \n",
       "0               RF RandomizedSearchCV  0.802170   0.815701  0.736657   \n",
       "0                     RF GridSearchCV  0.809224   0.824731  0.744631   \n",
       "\n",
       "         f1   roc_auc  \n",
       "0  0.000000  0.500000  \n",
       "1  0.743803  0.879863  \n",
       "2  0.742957  0.878439  \n",
       "0  0.738037  0.882276  \n",
       "0  0.746100  0.901639  \n",
       "0  0.765124  0.913083  \n",
       "0  0.774167  0.915441  "
      ]
     },
     "execution_count": 18,
     "metadata": {},
     "output_type": "execute_result"
    }
   ],
   "source": [
    "pd.concat([initial, randomized_gb, gridsearch_gb, randomized_rf, gridsearch_rf])"
   ]
  },
  {
   "cell_type": "markdown",
   "metadata": {},
   "source": [
    "### Wrapper Feature Selection"
   ]
  },
  {
   "cell_type": "code",
   "execution_count": 19,
   "metadata": {},
   "outputs": [
    {
     "data": {
      "image/png": "[encoded data removed]",
      "text/plain": [
       "<Figure size 864x576 with 1 Axes>"
      ]
     },
     "metadata": {
      "needs_background": "light"
     },
     "output_type": "display_data"
    }
   ],
   "source": [
    "# Feature importance of gradient boost using the hypertuned parameters\n",
    "rf_best = RandomForestClassifier(**rfclf_gridsearch.best_params_)\n",
    "rf_best.fit(X_train, y_train)\n",
    "feature_importance_rf = rf_best.feature_importances_\n",
    "sorted_idx = np.argsort(feature_importance_rf)\n",
    "\n",
    "\n",
    "pos= np.arange(sorted_idx.shape[0]) +0.5\n",
    "\n",
    "plt.figure(figsize=(12,8))\n",
    "plt.barh(pos,feature_importance_rf[sorted_idx], align='center')\n",
    "plt.yticks(pos,X.columns[sorted_idx])\n",
    "plt.xlabel('Importance')\n",
    "plt.title('Variable Importance')\n",
    "plt.show()"
   ]
  },
  {
   "cell_type": "code",
   "execution_count": 41,
   "metadata": {},
   "outputs": [],
   "source": [
    "new_cols=X.columns[sorted_idx][6:].tolist()\n",
    "new_X=X[new_cols]\n",
    "new_X_train, new_X_test, y_train, y_test = train_test_split(new_X,y, test_size = 0.3)\n",
    "\n",
    "rf_new = RandomForestClassifier(**rfclf_gridsearch.best_params_)\n",
    "rf_new.fit(new_X_train, y_train)\n",
    "\n",
    "sco = cross_validate(rf_new, new_X_train,y_train, cv=5, scoring = ('accuracy', 'precision', 'recall', 'f1', 'roc_auc'), return_train_score = True)\n",
    "\n",
    "scores ={'Model':[], 'Accuracy':[], 'Precision':[], 'Recall':[], 'f1':[], 'roc_auc':[]}\n",
    "sco['test_precision'].mean()\n",
    "scores['Model'].append(\"New\"+\" \" +type(rf_new).__name__)\n",
    "scores['Accuracy'].append(sco['test_accuracy'].mean())\n",
    "scores['Precision'].append(sco['test_precision'].mean())\n",
    "scores['Recall'].append(sco['test_recall'].mean())\n",
    "scores['f1'].append(sco['test_f1'].mean())\n",
    "scores['roc_auc'].append(sco['test_roc_auc'].mean())\n",
    "new_model_eval = pd.DataFrame(scores)"
   ]
  },
  {
   "cell_type": "code",
   "execution_count": 42,
   "metadata": {},
   "outputs": [
    {
     "data": {
      "text/html": [
       "<div>\n",
       "<style scoped>\n",
       "    .dataframe tbody tr th:only-of-type {\n",
       "        vertical-align: middle;\n",
       "    }\n",
       "\n",
       "    .dataframe tbody tr th {\n",
       "        vertical-align: top;\n",
       "    }\n",
       "\n",
       "    .dataframe thead th {\n",
       "        text-align: right;\n",
       "    }\n",
       "</style>\n",
       "<table border=\"1\" class=\"dataframe\">\n",
       "  <thead>\n",
       "    <tr style=\"text-align: right;\">\n",
       "      <th></th>\n",
       "      <th>Model</th>\n",
       "      <th>Accuracy</th>\n",
       "      <th>Precision</th>\n",
       "      <th>Recall</th>\n",
       "      <th>f1</th>\n",
       "      <th>roc_auc</th>\n",
       "    </tr>\n",
       "  </thead>\n",
       "  <tbody>\n",
       "    <tr>\n",
       "      <th>1</th>\n",
       "      <td>Initial RandomForestClassifier</td>\n",
       "      <td>0.797758</td>\n",
       "      <td>0.837923</td>\n",
       "      <td>0.683626</td>\n",
       "      <td>0.743803</td>\n",
       "      <td>0.879863</td>\n",
       "    </tr>\n",
       "    <tr>\n",
       "      <th>0</th>\n",
       "      <td>RF RandomizedSearchCV</td>\n",
       "      <td>0.802170</td>\n",
       "      <td>0.815701</td>\n",
       "      <td>0.736657</td>\n",
       "      <td>0.765124</td>\n",
       "      <td>0.913083</td>\n",
       "    </tr>\n",
       "    <tr>\n",
       "      <th>0</th>\n",
       "      <td>RF GridSearchCV</td>\n",
       "      <td>0.809224</td>\n",
       "      <td>0.824731</td>\n",
       "      <td>0.744631</td>\n",
       "      <td>0.774167</td>\n",
       "      <td>0.915441</td>\n",
       "    </tr>\n",
       "    <tr>\n",
       "      <th>0</th>\n",
       "      <td>New RandomForestClassifier</td>\n",
       "      <td>0.844740</td>\n",
       "      <td>0.867588</td>\n",
       "      <td>0.790000</td>\n",
       "      <td>0.825915</td>\n",
       "      <td>0.914555</td>\n",
       "    </tr>\n",
       "  </tbody>\n",
       "</table>\n",
       "</div>"
      ],
      "text/plain": [
       "                            Model  Accuracy  Precision    Recall        f1  \\\n",
       "1  Initial RandomForestClassifier  0.797758   0.837923  0.683626  0.743803   \n",
       "0           RF RandomizedSearchCV  0.802170   0.815701  0.736657  0.765124   \n",
       "0                 RF GridSearchCV  0.809224   0.824731  0.744631  0.774167   \n",
       "0      New RandomForestClassifier  0.844740   0.867588  0.790000  0.825915   \n",
       "\n",
       "    roc_auc  \n",
       "1  0.879863  \n",
       "0  0.913083  \n",
       "0  0.915441  \n",
       "0  0.914555  "
      ]
     },
     "execution_count": 42,
     "metadata": {},
     "output_type": "execute_result"
    }
   ],
   "source": [
    "pd.concat([initial.iloc[[1]], randomized_rf, gridsearch_rf, new_model_eval])"
   ]
  },
  {
   "cell_type": "code",
   "execution_count": null,
   "metadata": {},
   "outputs": [],
   "source": []
  }
 ],
 "metadata": {
  "kernelspec": {
   "display_name": "Python 3",
   "language": "python",
   "name": "python3"
  },
  "language_info": {
   "codemirror_mode": {
    "name": "ipython",
    "version": 3
   },
   "file_extension": ".py",
   "mimetype": "text/x-python",
   "name": "python",
   "nbconvert_exporter": "python",
   "pygments_lexer": "ipython3",
   "version": "3.7.0"
  }
 },
 "nbformat": 4,
 "nbformat_minor": 2
}
