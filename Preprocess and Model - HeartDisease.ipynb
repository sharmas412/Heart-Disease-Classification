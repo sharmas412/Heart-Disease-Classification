{
 "cells": [
  {
   "cell_type": "markdown",
   "metadata": {},
   "source": [
    "# Heart Disease Classification - Part 2"
   ]
  },
  {
   "cell_type": "code",
   "execution_count": 45,
   "metadata": {},
   "outputs": [],
   "source": [
    "import numpy as np\n",
    "import pandas as pd\n",
    "\n",
    "import matplotlib.pyplot as plt\n",
    "import seaborn as sns\n",
    "\n",
    "import warnings\n",
    "from sklearn.exceptions import UndefinedMetricWarning\n",
    "warnings.filterwarnings(\"ignore\", category=UndefinedMetricWarning)"
   ]
  },
  {
   "cell_type": "markdown",
   "metadata": {},
   "source": [
    "## Load and clean dataset"
   ]
  },
  {
   "cell_type": "code",
   "execution_count": 46,
   "metadata": {},
   "outputs": [],
   "source": [
    "heart_data = pd.read_csv('http://archive.ics.uci.edu/ml/machine-learning-databases/heart-disease/processed.cleveland.data', header=None)\n",
    "heart_data.columns = ['Age', 'Sex', 'ChestPain', 'trestBPS', 'chol', 'fbs', 'restecg', 'thalach',\n",
    "                     'exang', 'oldpeak', 'slope', 'ca', 'thal', 'target']\n",
    "\n",
    "def impute_missing(df):\n",
    "    heart_data.replace('?', np.NaN, inplace=True)\n",
    "    for col in df:\n",
    "        df[col].fillna(df[col].mode()[0], inplace=True)\n",
    "\n",
    "impute_missing(heart_data)\n",
    "\n",
    "\n",
    "def change_data(df):\n",
    "    for col in df:\n",
    "        if col in ['Sex', 'ChestPain', 'fbs', 'restecg', 'exang', 'slope', 'ca', 'thal', 'target']:\n",
    "            df[col] = df[col].astype('category')\n",
    "            \n",
    "change_data(heart_data)\n",
    "\n",
    "heart_data['target'] = heart_data['target'].replace([2,3,4], 1)\n",
    "heart_data['target'].cat.remove_categories([2,3,4], inplace=True)"
   ]
  },
  {
   "cell_type": "markdown",
   "metadata": {},
   "source": [
    "# Model"
   ]
  },
  {
   "cell_type": "code",
   "execution_count": 47,
   "metadata": {},
   "outputs": [],
   "source": [
    "X = heart_data.iloc[:, :-1]\n",
    "y = heart_data['target']"
   ]
  },
  {
   "cell_type": "code",
   "execution_count": 48,
   "metadata": {},
   "outputs": [],
   "source": [
    "from sklearn.model_selection import train_test_split\n",
    "\n",
    "X_train, X_test, y_train, y_test = train_test_split(X,y,test_size=0.3)\n",
    "\n",
    "scoring = ['accuracy', 'precision', 'recall', 'f1', 'roc_auc']"
   ]
  },
  {
   "cell_type": "markdown",
   "metadata": {},
   "source": [
    "### Dummy Classifier, Forest, Gradient Boosting"
   ]
  },
  {
   "cell_type": "code",
   "execution_count": 49,
   "metadata": {},
   "outputs": [],
   "source": [
    "from sklearn.ensemble import RandomForestClassifier\n",
    "from sklearn.ensemble import GradientBoostingClassifier\n",
    "from sklearn.dummy import DummyClassifier"
   ]
  },
  {
   "cell_type": "code",
   "execution_count": 50,
   "metadata": {},
   "outputs": [],
   "source": [
    "dummy = DummyClassifier(strategy='most_frequent')\n",
    "rf = RandomForestClassifier()\n",
    "gb = GradientBoostingClassifier(n_estimators=100)"
   ]
  },
  {
   "cell_type": "code",
   "execution_count": 51,
   "metadata": {},
   "outputs": [
    {
     "data": {
      "text/html": [
       "<div>\n",
       "<style scoped>\n",
       "    .dataframe tbody tr th:only-of-type {\n",
       "        vertical-align: middle;\n",
       "    }\n",
       "\n",
       "    .dataframe tbody tr th {\n",
       "        vertical-align: top;\n",
       "    }\n",
       "\n",
       "    .dataframe thead th {\n",
       "        text-align: right;\n",
       "    }\n",
       "</style>\n",
       "<table border=\"1\" class=\"dataframe\">\n",
       "  <thead>\n",
       "    <tr style=\"text-align: right;\">\n",
       "      <th></th>\n",
       "      <th>Model</th>\n",
       "      <th>Accuracy</th>\n",
       "      <th>Precision</th>\n",
       "      <th>Recall</th>\n",
       "      <th>f1</th>\n",
       "      <th>roc_auc</th>\n",
       "    </tr>\n",
       "  </thead>\n",
       "  <tbody>\n",
       "    <tr>\n",
       "      <th>0</th>\n",
       "      <td>Initial DummyClassifier</td>\n",
       "      <td>0.556603</td>\n",
       "      <td>0.000000</td>\n",
       "      <td>0.000000</td>\n",
       "      <td>0.000000</td>\n",
       "      <td>0.500000</td>\n",
       "    </tr>\n",
       "    <tr>\n",
       "      <th>1</th>\n",
       "      <td>Initial RandomForestClassifier</td>\n",
       "      <td>0.777903</td>\n",
       "      <td>0.808446</td>\n",
       "      <td>0.670175</td>\n",
       "      <td>0.725980</td>\n",
       "      <td>0.851634</td>\n",
       "    </tr>\n",
       "    <tr>\n",
       "      <th>2</th>\n",
       "      <td>Initial GradientBoostingClassifier</td>\n",
       "      <td>0.802172</td>\n",
       "      <td>0.802346</td>\n",
       "      <td>0.733918</td>\n",
       "      <td>0.764528</td>\n",
       "      <td>0.864130</td>\n",
       "    </tr>\n",
       "  </tbody>\n",
       "</table>\n",
       "</div>"
      ],
      "text/plain": [
       "                                Model  Accuracy  Precision    Recall  \\\n",
       "0             Initial DummyClassifier  0.556603   0.000000  0.000000   \n",
       "1      Initial RandomForestClassifier  0.777903   0.808446  0.670175   \n",
       "2  Initial GradientBoostingClassifier  0.802172   0.802346  0.733918   \n",
       "\n",
       "         f1   roc_auc  \n",
       "0  0.000000  0.500000  \n",
       "1  0.725980  0.851634  \n",
       "2  0.764528  0.864130  "
      ]
     },
     "execution_count": 51,
     "metadata": {},
     "output_type": "execute_result"
    }
   ],
   "source": [
    "from sklearn.model_selection import cross_validate\n",
    "\n",
    "def model_evaluate(models, style):\n",
    "    '''\n",
    "    For a given model, run cross_validate to get multiple evaluation metrics and return a dataframe with the models and metrics\n",
    "    '''\n",
    "    \n",
    "    scores ={'Model':[], 'Accuracy':[], 'Precision':[], 'Recall':[], 'f1':[], 'roc_auc':[]}\n",
    "\n",
    "    for model in models:\n",
    "        sco = cross_validate(model, X_train,y_train, cv=5, scoring = ('accuracy', 'precision', 'recall', 'f1', 'roc_auc'), return_train_score = True)\n",
    "        scores['Model'].append(style + ' ' +type(model).__name__)\n",
    "        scores['Accuracy'].append(sco['test_accuracy'].mean())\n",
    "        scores['Precision'].append(sco['test_precision'].mean())\n",
    "        scores['Recall'].append(sco['test_recall'].mean())\n",
    "        scores['f1'].append(sco['test_f1'].mean())\n",
    "        scores['roc_auc'].append(sco['test_roc_auc'].mean())\n",
    "        model_eval = pd.DataFrame(scores)\n",
    "    return model_eval\n",
    "\n",
    "models=[dummy,rf,gb]\n",
    "initial = model_evaluate(models, 'Initial')\n",
    "initial"
   ]
  },
  {
   "cell_type": "markdown",
   "metadata": {},
   "source": [
    "## Hyperparameter tuning"
   ]
  },
  {
   "cell_type": "code",
   "execution_count": 52,
   "metadata": {},
   "outputs": [],
   "source": [
    "from sklearn.model_selection import RandomizedSearchCV\n",
    "from sklearn.model_selection import GridSearchCV\n",
    "\n",
    "def search_model_evaluate(model, style):\n",
    "    '''\n",
    "    Given RandomSearchCV and GridSearchCV, find multiple scores and return a dataframe with those scores\n",
    "    '''\n",
    "    \n",
    "    scores ={'Model':[], 'Accuracy':[], 'Precision':[], 'Recall':[], 'f1':[], 'roc_auc':[]}\n",
    "\n",
    "    model.fit(X_train, y_train)\n",
    "    sco = model.cv_results_\n",
    "    scores['Model'].append(style + ' ' +type(model).__name__)\n",
    "    scores['Accuracy'].append(sco['mean_test_accuracy'].mean())\n",
    "    scores['Precision'].append(sco['mean_test_precision'].mean())\n",
    "    scores['Recall'].append(sco['mean_test_recall'].mean())\n",
    "    scores['f1'].append(sco['mean_test_f1'].mean())\n",
    "    scores['roc_auc'].append(sco['mean_test_roc_auc'].mean())\n",
    "    search_model_eval = pd.DataFrame(scores)\n",
    "    return search_model_eval"
   ]
  },
  {
   "cell_type": "markdown",
   "metadata": {},
   "source": [
    "### Randomized Search for GradientBoosting"
   ]
  },
  {
   "cell_type": "code",
   "execution_count": 53,
   "metadata": {},
   "outputs": [],
   "source": [
    "from scipy.stats import uniform\n",
    "\n",
    "learning_rate = uniform(0.01,0.2)\n",
    "n_estimators = [int(x) for x in np.linspace(start = 100, stop = 500, num = 5)]\n",
    "max_features = ['auto', 'sqrt']\n",
    "max_depth = [3,5,10]#None]\n",
    "min_samples_leaf = [1, 2, 4]\n",
    "\n",
    "random_grid = {'learning_rate': learning_rate,\n",
    "               'n_estimators': n_estimators,\n",
    "               'max_features': max_features,\n",
    "               'max_depth': max_depth,\n",
    "               'min_samples_leaf': min_samples_leaf}"
   ]
  },
  {
   "cell_type": "code",
   "execution_count": 54,
   "metadata": {},
   "outputs": [
    {
     "data": {
      "text/html": [
       "<div>\n",
       "<style scoped>\n",
       "    .dataframe tbody tr th:only-of-type {\n",
       "        vertical-align: middle;\n",
       "    }\n",
       "\n",
       "    .dataframe tbody tr th {\n",
       "        vertical-align: top;\n",
       "    }\n",
       "\n",
       "    .dataframe thead th {\n",
       "        text-align: right;\n",
       "    }\n",
       "</style>\n",
       "<table border=\"1\" class=\"dataframe\">\n",
       "  <thead>\n",
       "    <tr style=\"text-align: right;\">\n",
       "      <th></th>\n",
       "      <th>Model</th>\n",
       "      <th>Accuracy</th>\n",
       "      <th>Precision</th>\n",
       "      <th>Recall</th>\n",
       "      <th>f1</th>\n",
       "      <th>roc_auc</th>\n",
       "    </tr>\n",
       "  </thead>\n",
       "  <tbody>\n",
       "    <tr>\n",
       "      <th>0</th>\n",
       "      <td>GB RandomizedSearchCV</td>\n",
       "      <td>0.784104</td>\n",
       "      <td>0.788645</td>\n",
       "      <td>0.710351</td>\n",
       "      <td>0.742683</td>\n",
       "      <td>0.865463</td>\n",
       "    </tr>\n",
       "  </tbody>\n",
       "</table>\n",
       "</div>"
      ],
      "text/plain": [
       "                   Model  Accuracy  Precision    Recall        f1   roc_auc\n",
       "0  GB RandomizedSearchCV  0.784104   0.788645  0.710351  0.742683  0.865463"
      ]
     },
     "execution_count": 54,
     "metadata": {},
     "output_type": "execute_result"
    }
   ],
   "source": [
    "gb = GradientBoostingClassifier()\n",
    "gb_random = RandomizedSearchCV(gb, param_distributions = random_grid, n_iter=100, cv=5, scoring = scoring, refit='precision', return_train_score = True)\n",
    "\n",
    "randomized_gb = search_model_evaluate(gb_random, 'GB')\n"
   ]
  },
  {
   "cell_type": "markdown",
   "metadata": {},
   "source": [
    "### GridSearch for GradientBoosting"
   ]
  },
  {
   "cell_type": "code",
   "execution_count": 55,
   "metadata": {},
   "outputs": [],
   "source": [
    "def get_parameters_GB(model):\n",
    "    randomsearch_params = model.get_params()\n",
    "    grid_learning = randomsearch_params['learning_rate']\n",
    "    grid_depth = randomsearch_params['max_depth']\n",
    "    grid_estimators = randomsearch_params['n_estimators']\n",
    "    grid_max_features = randomsearch_params['max_features']\n",
    "    \n",
    "    gridsearch_learning = [grid_learning, grid_learning+0.02, grid_learning+0.06]\n",
    "    gridsearch_estimators = [grid_estimators-50, grid_estimators, grid_estimators+100]\n",
    "    gridsearch_depth = [grid_depth -2, grid_depth, grid_depth+2]\n",
    "    \n",
    "    gridsearch_params={'learning_rate': gridsearch_learning,\n",
    "                       'n_estimators': gridsearch_estimators,\n",
    "                       'max_features': [grid_max_features],\n",
    "                       'max_depth': gridsearch_depth}\n",
    "    return gridsearch_params\n",
    "\n",
    "gb_ran = GradientBoostingClassifier(**gb_random.best_params_) # gb_random is the model for randomsearchCV\n",
    "gridsearch_params = get_parameters_GB(gb_ran)"
   ]
  },
  {
   "cell_type": "code",
   "execution_count": 56,
   "metadata": {},
   "outputs": [],
   "source": [
    "#scoring = ['accuracy', 'precision', 'recall', 'f1', 'roc_auc']\n",
    "gbclf = GradientBoostingClassifier()\n",
    "gbclf_gridsearch = GridSearchCV(gbclf, gridsearch_params, cv=5, scoring=scoring, refit='precision', return_train_score = True)\n",
    "gridsearch_gb = search_model_evaluate(gbclf_gridsearch,'GB')"
   ]
  },
  {
   "cell_type": "code",
   "execution_count": 57,
   "metadata": {},
   "outputs": [
    {
     "data": {
      "text/html": [
       "<div>\n",
       "<style scoped>\n",
       "    .dataframe tbody tr th:only-of-type {\n",
       "        vertical-align: middle;\n",
       "    }\n",
       "\n",
       "    .dataframe tbody tr th {\n",
       "        vertical-align: top;\n",
       "    }\n",
       "\n",
       "    .dataframe thead th {\n",
       "        text-align: right;\n",
       "    }\n",
       "</style>\n",
       "<table border=\"1\" class=\"dataframe\">\n",
       "  <thead>\n",
       "    <tr style=\"text-align: right;\">\n",
       "      <th></th>\n",
       "      <th>Model</th>\n",
       "      <th>Accuracy</th>\n",
       "      <th>Precision</th>\n",
       "      <th>Recall</th>\n",
       "      <th>f1</th>\n",
       "      <th>roc_auc</th>\n",
       "    </tr>\n",
       "  </thead>\n",
       "  <tbody>\n",
       "    <tr>\n",
       "      <th>0</th>\n",
       "      <td>Initial DummyClassifier</td>\n",
       "      <td>0.556603</td>\n",
       "      <td>0.000000</td>\n",
       "      <td>0.000000</td>\n",
       "      <td>0.000000</td>\n",
       "      <td>0.500000</td>\n",
       "    </tr>\n",
       "    <tr>\n",
       "      <th>1</th>\n",
       "      <td>Initial RandomForestClassifier</td>\n",
       "      <td>0.777903</td>\n",
       "      <td>0.808446</td>\n",
       "      <td>0.670175</td>\n",
       "      <td>0.725980</td>\n",
       "      <td>0.851634</td>\n",
       "    </tr>\n",
       "    <tr>\n",
       "      <th>2</th>\n",
       "      <td>Initial GradientBoostingClassifier</td>\n",
       "      <td>0.802172</td>\n",
       "      <td>0.802346</td>\n",
       "      <td>0.733918</td>\n",
       "      <td>0.764528</td>\n",
       "      <td>0.864130</td>\n",
       "    </tr>\n",
       "    <tr>\n",
       "      <th>0</th>\n",
       "      <td>GB RandomizedSearchCV</td>\n",
       "      <td>0.784104</td>\n",
       "      <td>0.788645</td>\n",
       "      <td>0.710351</td>\n",
       "      <td>0.742683</td>\n",
       "      <td>0.865463</td>\n",
       "    </tr>\n",
       "    <tr>\n",
       "      <th>0</th>\n",
       "      <td>GB GridSearchCV</td>\n",
       "      <td>0.821454</td>\n",
       "      <td>0.843731</td>\n",
       "      <td>0.741218</td>\n",
       "      <td>0.784975</td>\n",
       "      <td>0.894409</td>\n",
       "    </tr>\n",
       "  </tbody>\n",
       "</table>\n",
       "</div>"
      ],
      "text/plain": [
       "                                Model  Accuracy  Precision    Recall  \\\n",
       "0             Initial DummyClassifier  0.556603   0.000000  0.000000   \n",
       "1      Initial RandomForestClassifier  0.777903   0.808446  0.670175   \n",
       "2  Initial GradientBoostingClassifier  0.802172   0.802346  0.733918   \n",
       "0               GB RandomizedSearchCV  0.784104   0.788645  0.710351   \n",
       "0                     GB GridSearchCV  0.821454   0.843731  0.741218   \n",
       "\n",
       "         f1   roc_auc  \n",
       "0  0.000000  0.500000  \n",
       "1  0.725980  0.851634  \n",
       "2  0.764528  0.864130  \n",
       "0  0.742683  0.865463  \n",
       "0  0.784975  0.894409  "
      ]
     },
     "execution_count": 57,
     "metadata": {},
     "output_type": "execute_result"
    }
   ],
   "source": [
    "pd.concat([initial, randomized_gb, gridsearch_gb])"
   ]
  },
  {
   "cell_type": "markdown",
   "metadata": {},
   "source": [
    "### Randomized Search for Random Forest"
   ]
  },
  {
   "cell_type": "code",
   "execution_count": 58,
   "metadata": {},
   "outputs": [],
   "source": [
    "# Number of trees in random forest\n",
    "n_estimators = [int(x) for x in np.linspace(start = 100, stop = 500, num = 5)]\n",
    "# Number of features to consider at every split\n",
    "max_features = ['auto', 'sqrt']\n",
    "# Maximum number of levels in tree\n",
    "max_depth = [3,5,10]\n",
    "#max_depth.append(None)\n",
    "# Minimum number of samples required at each leaf node\n",
    "min_samples_leaf = [1, 2, 4]\n",
    "# Method of selecting samples for training each tree\n",
    "bootstrap = [True, False]\n",
    "# Create the random grid\n",
    "rf_random_grid = {'n_estimators': n_estimators,\n",
    "               'max_features': max_features,\n",
    "               'max_depth': max_depth,\n",
    "               'min_samples_leaf': min_samples_leaf,\n",
    "               'bootstrap': bootstrap}"
   ]
  },
  {
   "cell_type": "code",
   "execution_count": 59,
   "metadata": {},
   "outputs": [
    {
     "data": {
      "text/html": [
       "<div>\n",
       "<style scoped>\n",
       "    .dataframe tbody tr th:only-of-type {\n",
       "        vertical-align: middle;\n",
       "    }\n",
       "\n",
       "    .dataframe tbody tr th {\n",
       "        vertical-align: top;\n",
       "    }\n",
       "\n",
       "    .dataframe thead th {\n",
       "        text-align: right;\n",
       "    }\n",
       "</style>\n",
       "<table border=\"1\" class=\"dataframe\">\n",
       "  <thead>\n",
       "    <tr style=\"text-align: right;\">\n",
       "      <th></th>\n",
       "      <th>Model</th>\n",
       "      <th>Accuracy</th>\n",
       "      <th>Precision</th>\n",
       "      <th>Recall</th>\n",
       "      <th>f1</th>\n",
       "      <th>roc_auc</th>\n",
       "    </tr>\n",
       "  </thead>\n",
       "  <tbody>\n",
       "    <tr>\n",
       "      <th>0</th>\n",
       "      <td>RF RandomizedSearchCV</td>\n",
       "      <td>0.838208</td>\n",
       "      <td>0.867</td>\n",
       "      <td>0.757685</td>\n",
       "      <td>0.805771</td>\n",
       "      <td>0.904389</td>\n",
       "    </tr>\n",
       "  </tbody>\n",
       "</table>\n",
       "</div>"
      ],
      "text/plain": [
       "                   Model  Accuracy  Precision    Recall        f1   roc_auc\n",
       "0  RF RandomizedSearchCV  0.838208      0.867  0.757685  0.805771  0.904389"
      ]
     },
     "execution_count": 59,
     "metadata": {},
     "output_type": "execute_result"
    }
   ],
   "source": [
    "rf = RandomForestClassifier()\n",
    "rf_random = RandomizedSearchCV(rf, param_distributions = rf_random_grid, n_iter=100, cv=5, scoring = scoring, refit='precision', return_train_score = True)\n",
    "# Run the randomized search random forest model\n",
    "randomized_rf = search_model_evaluate(rf_random, 'RF')\n",
    "# Get the best parameters from the randomized model and create a random forest classifier\n",
    "rf_ran = RandomForestClassifier(**rf_random.best_params_)\n"
   ]
  },
  {
   "cell_type": "markdown",
   "metadata": {},
   "source": [
    "### GridSearchCV for Random Forest"
   ]
  },
  {
   "cell_type": "code",
   "execution_count": 60,
   "metadata": {},
   "outputs": [],
   "source": [
    "def get_parameters_RF(model):\n",
    "    randomsearch_params = model.get_params()\n",
    "    grid_depth = randomsearch_params['max_depth']\n",
    "    grid_estimators = randomsearch_params['n_estimators']\n",
    "    grid_max_features = randomsearch_params['max_features']\n",
    "    grid_min_samples_leaf = randomsearch_params['min_samples_leaf']\n",
    "    grid_bootstrap = randomsearch_params['bootstrap']\n",
    "    \n",
    "\n",
    "    gridsearch_estimators = [grid_estimators-50, grid_estimators, grid_estimators+100]\n",
    "    gridsearch_depth = [grid_depth -2, grid_depth, grid_depth+2]\n",
    "    grid_min_samples_leaf = [grid_min_samples_leaf, grid_min_samples_leaf+2]\n",
    "    \n",
    "    \n",
    "    gridsearch_params={'n_estimators': gridsearch_estimators,\n",
    "                       'max_features': [grid_max_features],\n",
    "                       'max_depth': gridsearch_depth,\n",
    "                       'min_samples_leaf': grid_min_samples_leaf,\n",
    "                       'bootstrap': [grid_bootstrap]}\n",
    "    return gridsearch_params\n",
    "\n",
    "# Get the best parameters from the randomized model and create a random forest classifier for GridSearch\n",
    "rf_ran = RandomForestClassifier(**rf_random.best_params_)\n",
    "rf_gridsearch_params = get_parameters_RF(rf_ran)"
   ]
  },
  {
   "cell_type": "code",
   "execution_count": 61,
   "metadata": {},
   "outputs": [],
   "source": [
    "rfclf = RandomForestClassifier()\n",
    "rfclf_gridsearch = GridSearchCV(rfclf, rf_gridsearch_params, cv=5, scoring=scoring, refit='precision', return_train_score = True)\n",
    "gridsearch_rf = search_model_evaluate(rfclf_gridsearch,'RF')"
   ]
  },
  {
   "cell_type": "code",
   "execution_count": 62,
   "metadata": {},
   "outputs": [
    {
     "data": {
      "text/html": [
       "<div>\n",
       "<style scoped>\n",
       "    .dataframe tbody tr th:only-of-type {\n",
       "        vertical-align: middle;\n",
       "    }\n",
       "\n",
       "    .dataframe tbody tr th {\n",
       "        vertical-align: top;\n",
       "    }\n",
       "\n",
       "    .dataframe thead th {\n",
       "        text-align: right;\n",
       "    }\n",
       "</style>\n",
       "<table border=\"1\" class=\"dataframe\">\n",
       "  <thead>\n",
       "    <tr style=\"text-align: right;\">\n",
       "      <th></th>\n",
       "      <th>Model</th>\n",
       "      <th>Accuracy</th>\n",
       "      <th>Precision</th>\n",
       "      <th>Recall</th>\n",
       "      <th>f1</th>\n",
       "      <th>roc_auc</th>\n",
       "    </tr>\n",
       "  </thead>\n",
       "  <tbody>\n",
       "    <tr>\n",
       "      <th>0</th>\n",
       "      <td>Initial DummyClassifier</td>\n",
       "      <td>0.556603</td>\n",
       "      <td>0.000000</td>\n",
       "      <td>0.000000</td>\n",
       "      <td>0.000000</td>\n",
       "      <td>0.500000</td>\n",
       "    </tr>\n",
       "    <tr>\n",
       "      <th>1</th>\n",
       "      <td>Initial RandomForestClassifier</td>\n",
       "      <td>0.777903</td>\n",
       "      <td>0.808446</td>\n",
       "      <td>0.670175</td>\n",
       "      <td>0.725980</td>\n",
       "      <td>0.851634</td>\n",
       "    </tr>\n",
       "    <tr>\n",
       "      <th>2</th>\n",
       "      <td>Initial GradientBoostingClassifier</td>\n",
       "      <td>0.802172</td>\n",
       "      <td>0.802346</td>\n",
       "      <td>0.733918</td>\n",
       "      <td>0.764528</td>\n",
       "      <td>0.864130</td>\n",
       "    </tr>\n",
       "    <tr>\n",
       "      <th>0</th>\n",
       "      <td>GB RandomizedSearchCV</td>\n",
       "      <td>0.784104</td>\n",
       "      <td>0.788645</td>\n",
       "      <td>0.710351</td>\n",
       "      <td>0.742683</td>\n",
       "      <td>0.865463</td>\n",
       "    </tr>\n",
       "    <tr>\n",
       "      <th>0</th>\n",
       "      <td>GB GridSearchCV</td>\n",
       "      <td>0.821454</td>\n",
       "      <td>0.843731</td>\n",
       "      <td>0.741218</td>\n",
       "      <td>0.784975</td>\n",
       "      <td>0.894409</td>\n",
       "    </tr>\n",
       "    <tr>\n",
       "      <th>0</th>\n",
       "      <td>RF RandomizedSearchCV</td>\n",
       "      <td>0.838208</td>\n",
       "      <td>0.867000</td>\n",
       "      <td>0.757685</td>\n",
       "      <td>0.805771</td>\n",
       "      <td>0.904389</td>\n",
       "    </tr>\n",
       "    <tr>\n",
       "      <th>0</th>\n",
       "      <td>RF GridSearchCV</td>\n",
       "      <td>0.841719</td>\n",
       "      <td>0.886873</td>\n",
       "      <td>0.743603</td>\n",
       "      <td>0.805585</td>\n",
       "      <td>0.908189</td>\n",
       "    </tr>\n",
       "  </tbody>\n",
       "</table>\n",
       "</div>"
      ],
      "text/plain": [
       "                                Model  Accuracy  Precision    Recall  \\\n",
       "0             Initial DummyClassifier  0.556603   0.000000  0.000000   \n",
       "1      Initial RandomForestClassifier  0.777903   0.808446  0.670175   \n",
       "2  Initial GradientBoostingClassifier  0.802172   0.802346  0.733918   \n",
       "0               GB RandomizedSearchCV  0.784104   0.788645  0.710351   \n",
       "0                     GB GridSearchCV  0.821454   0.843731  0.741218   \n",
       "0               RF RandomizedSearchCV  0.838208   0.867000  0.757685   \n",
       "0                     RF GridSearchCV  0.841719   0.886873  0.743603   \n",
       "\n",
       "         f1   roc_auc  \n",
       "0  0.000000  0.500000  \n",
       "1  0.725980  0.851634  \n",
       "2  0.764528  0.864130  \n",
       "0  0.742683  0.865463  \n",
       "0  0.784975  0.894409  \n",
       "0  0.805771  0.904389  \n",
       "0  0.805585  0.908189  "
      ]
     },
     "execution_count": 62,
     "metadata": {},
     "output_type": "execute_result"
    }
   ],
   "source": [
    "pd.concat([initial, randomized_gb, gridsearch_gb, randomized_rf, gridsearch_rf])"
   ]
  },
  {
   "cell_type": "markdown",
   "metadata": {},
   "source": [
    "### Feature Selection"
   ]
  },
  {
   "cell_type": "code",
   "execution_count": 63,
   "metadata": {},
   "outputs": [
    {
     "data": {
      "image/png": "[encoded data removed]",
      "text/plain": [
       "<Figure size 864x576 with 1 Axes>"
      ]
     },
     "metadata": {
      "needs_background": "light"
     },
     "output_type": "display_data"
    }
   ],
   "source": [
    "# Feature importance of gradient boost using the hypertuned parameters\n",
    "rf_best = RandomForestClassifier(**rfclf_gridsearch.best_params_)\n",
    "rf_best.fit(X_train, y_train)\n",
    "feature_importance_rf = rf_best.feature_importances_\n",
    "sorted_idx = np.argsort(feature_importance_rf)\n",
    "\n",
    "\n",
    "pos= np.arange(sorted_idx.shape[0]) +0.5\n",
    "\n",
    "plt.figure(figsize=(12,8))\n",
    "plt.barh(pos,feature_importance_rf[sorted_idx], align='center')\n",
    "plt.yticks(pos,X.columns[sorted_idx])\n",
    "plt.xlabel('Importance')\n",
    "plt.title('Variable Importance')\n",
    "plt.show()"
   ]
  },
  {
   "cell_type": "code",
   "execution_count": 69,
   "metadata": {},
   "outputs": [
    {
     "data": {
      "text/plain": [
       "RandomForestClassifier(bootstrap=True, class_weight=None, criterion='gini',\n",
       "            max_depth=1, max_features='sqrt', max_leaf_nodes=None,\n",
       "            min_impurity_decrease=0.0, min_impurity_split=None,\n",
       "            min_samples_leaf=2, min_samples_split=2,\n",
       "            min_weight_fraction_leaf=0.0, n_estimators=400, n_jobs=1,\n",
       "            oob_score=False, random_state=None, verbose=0,\n",
       "            warm_start=False)"
      ]
     },
     "execution_count": 69,
     "metadata": {},
     "output_type": "execute_result"
    }
   ],
   "source": [
    "new_cols=X.columns[sorted_idx][7:].tolist()\n",
    "new_X=X[new_cols]\n",
    "new_X_train, new_X_test, y_train, y_test = train_test_split(new_X,y, test_size = 0.3)\n",
    "\n",
    "rf_new = RandomForestClassifier(**rfclf_gridsearch.best_params_)\n",
    "rf_new.fit(new_X_train, y_train)\n",
    "\n",
    "sco = cross_validate(rf_new, new_X_train,y_train, cv=5, scoring = ('accuracy', 'precision', 'recall', 'f1', 'roc_auc'), return_train_score = True)\n",
    "\n",
    "scores ={'Model':[], 'Accuracy':[], 'Precision':[], 'Recall':[], 'f1':[], 'roc_auc':[]}\n",
    "sco['test_precision'].mean()\n",
    "scores['Model'].append(\"New\"+\" \" +type(rf_new).__name__)\n",
    "scores['Accuracy'].append(sco['test_accuracy'].mean())\n",
    "scores['Precision'].append(sco['test_precision'].mean())\n",
    "scores['Recall'].append(sco['test_recall'].mean())\n",
    "scores['f1'].append(sco['test_f1'].mean())\n",
    "scores['roc_auc'].append(sco['test_roc_auc'].mean())\n",
    "new_model_eval = pd.DataFrame(scores)"
   ]
  },
  {
   "cell_type": "code",
   "execution_count": 91,
   "metadata": {},
   "outputs": [
    {
     "data": {
      "text/html": [
       "<div>\n",
       "<style scoped>\n",
       "    .dataframe tbody tr th:only-of-type {\n",
       "        vertical-align: middle;\n",
       "    }\n",
       "\n",
       "    .dataframe tbody tr th {\n",
       "        vertical-align: top;\n",
       "    }\n",
       "\n",
       "    .dataframe thead th {\n",
       "        text-align: right;\n",
       "    }\n",
       "</style>\n",
       "<table border=\"1\" class=\"dataframe\">\n",
       "  <thead>\n",
       "    <tr style=\"text-align: right;\">\n",
       "      <th></th>\n",
       "      <th>Model</th>\n",
       "      <th>Accuracy</th>\n",
       "      <th>Precision</th>\n",
       "      <th>Recall</th>\n",
       "      <th>f1</th>\n",
       "      <th>roc_auc</th>\n",
       "    </tr>\n",
       "  </thead>\n",
       "  <tbody>\n",
       "    <tr>\n",
       "      <th>1</th>\n",
       "      <td>Initial RandomForestClassifier</td>\n",
       "      <td>0.777903</td>\n",
       "      <td>0.808446</td>\n",
       "      <td>0.670175</td>\n",
       "      <td>0.725980</td>\n",
       "      <td>0.851634</td>\n",
       "    </tr>\n",
       "    <tr>\n",
       "      <th>0</th>\n",
       "      <td>RF RandomizedSearchCV</td>\n",
       "      <td>0.838208</td>\n",
       "      <td>0.867000</td>\n",
       "      <td>0.757685</td>\n",
       "      <td>0.805771</td>\n",
       "      <td>0.904389</td>\n",
       "    </tr>\n",
       "    <tr>\n",
       "      <th>0</th>\n",
       "      <td>RF GridSearchCV</td>\n",
       "      <td>0.841719</td>\n",
       "      <td>0.886873</td>\n",
       "      <td>0.743603</td>\n",
       "      <td>0.805585</td>\n",
       "      <td>0.908189</td>\n",
       "    </tr>\n",
       "    <tr>\n",
       "      <th>0</th>\n",
       "      <td>New RandomForestClassifier</td>\n",
       "      <td>0.859524</td>\n",
       "      <td>0.896032</td>\n",
       "      <td>0.760234</td>\n",
       "      <td>0.819376</td>\n",
       "      <td>0.911978</td>\n",
       "    </tr>\n",
       "  </tbody>\n",
       "</table>\n",
       "</div>"
      ],
      "text/plain": [
       "                            Model  Accuracy  Precision    Recall        f1  \\\n",
       "1  Initial RandomForestClassifier  0.777903   0.808446  0.670175  0.725980   \n",
       "0           RF RandomizedSearchCV  0.838208   0.867000  0.757685  0.805771   \n",
       "0                 RF GridSearchCV  0.841719   0.886873  0.743603  0.805585   \n",
       "0      New RandomForestClassifier  0.859524   0.896032  0.760234  0.819376   \n",
       "\n",
       "    roc_auc  \n",
       "1  0.851634  \n",
       "0  0.904389  \n",
       "0  0.908189  \n",
       "0  0.911978  "
      ]
     },
     "execution_count": 91,
     "metadata": {},
     "output_type": "execute_result"
    }
   ],
   "source": [
    "pd.concat([initial.iloc[[1]], randomized_rf, gridsearch_rf, new_model_eval])"
   ]
  },
  {
   "cell_type": "code",
   "execution_count": null,
   "metadata": {},
   "outputs": [],
   "source": []
  }
 ],
 "metadata": {
  "kernelspec": {
   "display_name": "Python 3",
   "language": "python",
   "name": "python3"
  },
  "language_info": {
   "codemirror_mode": {
    "name": "ipython",
    "version": 3
   },
   "file_extension": ".py",
   "mimetype": "text/x-python",
   "name": "python",
   "nbconvert_exporter": "python",
   "pygments_lexer": "ipython3",
   "version": "3.6.6"
  }
 },
 "nbformat": 4,
 "nbformat_minor": 2
}
